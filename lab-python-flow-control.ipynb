{
 "cells": [
  {
   "cell_type": "markdown",
   "id": "d3bfc191-8885-42ee-b0a0-bbab867c6f9f",
   "metadata": {
    "tags": []
   },
   "source": [
    "# Lab | Flow Control"
   ]
  },
  {
   "cell_type": "markdown",
   "id": "3851fcd1-cf98-4653-9c89-e003b7ec9400",
   "metadata": {},
   "source": [
    "## Exercise: Managing Customer Orders Optimized\n",
    "\n",
    "In the last lab, you were starting an online store that sells various products. To ensure smooth operations, you developed a program that manages customer orders and inventory.\n",
    "\n",
    "You did so without using flow control. Let's go a step further and improve this code.\n",
    "\n",
    "Follow the steps below to complete the exercise:\n",
    "\n",
    "1. Look at your code from the lab data structures, and improve repeated code with loops.\n",
    "\n",
    "2. Instead of asking the user to input the name of three products that a customer wants to order, do the following:\n",
    "    \n",
    "    a. Prompt the user to enter the name of a product that a customer wants to order.\n",
    "    \n",
    "    b. Add the product name to the \"customer_orders\" set.\n",
    "    \n",
    "    c. Ask the user if they want to add another product (yes/no).\n",
    "    \n",
    "    d. Continue the loop until the user does not want to add another product.\n",
    "\n",
    "3. Instead of updating the inventory by subtracting 1 from the quantity of each product, only do it for  the products that were ordered (those in \"customer_orders\")."
   ]
  },
  {
   "cell_type": "code",
   "execution_count": 1,
   "id": "a72d4c47",
   "metadata": {},
   "outputs": [
    {
     "name": "stdout",
     "output_type": "stream",
     "text": [
      "Enter the product you want to order: hat\n",
      "Please press 'yes' to add another product and 'no' not to add: yes\n",
      "Please enter the product you want to add: mug\n",
      "Please press 'yes' to add another product and 'no' not to add: yes\n",
      "Please enter the product you want to add: keychain\n",
      "Please press 'yes' to add another product and 'no' not to add: yes\n",
      "Please enter the product you want to add: book\n",
      "Please press 'yes' to add another product and 'no' not to add: no\n",
      "Thank you!\n",
      "Your orders: {'mug', 'keychain', 'hat', 'book'}\n"
     ]
    }
   ],
   "source": [
    "products = [\"t-shirt\", \"mug\", \"hat\", \"book\", \"keychain\"]\n",
    "customer_orders = set()\n",
    "\n",
    "product_add = input(\"Enter the product you want to order: \").strip().lower()\n",
    "if product_add in products:\n",
    "    customer_orders.add(product_add)\n",
    "else:\n",
    "    print(\"Product not available.\")\n",
    "\n",
    "while True:\n",
    "    choice = input(\"Please press 'yes' to add another product and 'no' not to add: \").strip().lower()\n",
    "    if choice == 'yes':\n",
    "        product_add = input(\"Please enter the product you want to add: \").strip().lower()\n",
    "        if product_add in products:\n",
    "            customer_orders.add(product_add)\n",
    "        else:\n",
    "            print(\"Product not available.\")\n",
    "    elif choice == 'no':\n",
    "        print(\"Thank you!\")\n",
    "        break\n",
    "    else:\n",
    "        print(\"Invalid input, please enter 'yes' or 'no'.\")\n",
    "\n",
    "print(\"Your orders:\", customer_orders)\n",
    "\n",
    "\n",
    "\n",
    "\n",
    "\n",
    "\n"
   ]
  },
  {
   "cell_type": "code",
   "execution_count": null,
   "id": "36d0c0ca",
   "metadata": {},
   "outputs": [],
   "source": []
  }
 ],
 "metadata": {
  "kernelspec": {
   "display_name": "Python 3 (ipykernel)",
   "language": "python",
   "name": "python3"
  },
  "language_info": {
   "codemirror_mode": {
    "name": "ipython",
    "version": 3
   },
   "file_extension": ".py",
   "mimetype": "text/x-python",
   "name": "python",
   "nbconvert_exporter": "python",
   "pygments_lexer": "ipython3",
   "version": "3.9.13"
  }
 },
 "nbformat": 4,
 "nbformat_minor": 5
}
